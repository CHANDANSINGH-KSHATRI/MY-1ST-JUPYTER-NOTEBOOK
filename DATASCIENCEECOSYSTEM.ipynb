{
 "cells": [
  {
   "cell_type": "markdown",
   "id": "aec95956-9f82-4d02-bc72-a73f6237e3cd",
   "metadata": {},
   "source": [
    "# Data Science Tools And Ecosystem"
   ]
  },
  {
   "cell_type": "markdown",
   "id": "b8f34253-a83f-4bc7-8b6e-23aad56fead8",
   "metadata": {},
   "source": [
    "###### *In this notebook , Data Science Tools and Ecosystems are Summarized* ######"
   ]
  },
  {
   "cell_type": "markdown",
   "id": "564e867f-7390-4067-9782-b08072347c68",
   "metadata": {},
   "source": [
    "## **THE NOTEBOOK COVERS THE FOLLOWING CONTENT**\n",
    "1. POPULAR LANGUAGES USE IN DATA SCIENCE\n",
    "   -  any 3\n",
    "2. Popular Libraries in Data Science\n",
    "   - any 3\n",
    "3. Data Science Tools\n",
    "   - Tabular Format\n",
    "4. Some Arthimetic Operaions\n",
    "   - Multiplicatin\n",
    "   - Addition\n",
    "   - Time Convertions"
   ]
  },
  {
   "cell_type": "markdown",
   "id": "7c81176b-16a1-45be-853c-688726a8e6bb",
   "metadata": {
    "jp-MarkdownHeadingCollapsed": true
   },
   "source": [
    "#### Some Of The Popular Languages Used by Data Scientist are \n",
    " 1. PYTHON  \n",
    " 2. SQL\n",
    " 3. R LANGUAGE\n",
    " 4. JULIA\n",
    " 5. SCALA"
   ]
  },
  {
   "cell_type": "markdown",
   "id": "8cfea6d9-5398-4a05-9b02-dbee9c929643",
   "metadata": {},
   "source": [
    "#### Some of The Popular Libraries that Data Scientists use are\n",
    "1. NumPy\n",
    "2. Pandas\n",
    "3. Matplotlib\n",
    "4. Seaborn\n",
    "5. TensorFlow\n",
    "6. Keras\n",
    "7. PyTorch"
   ]
  },
  {
   "cell_type": "markdown",
   "id": "5da253b9-eb2f-4637-95fb-6e60f026b476",
   "metadata": {},
   "source": [
    "|DATA SCIENCE TOOLS|\n",
    "--------------------\n",
    "|JUPYTER NOTEBOOK |\n",
    "|TABLEAU|\n",
    "|APACHE SPARK|\n",
    "|GIT|"
   ]
  },
  {
   "cell_type": "markdown",
   "id": "827b53a7-d3c6-432e-a944-1e94ad859ca0",
   "metadata": {},
   "source": [
    "### _Below are few examples of evaluating Arthimetic Expressions in Python_"
   ]
  },
  {
   "cell_type": "code",
   "execution_count": 8,
   "id": "e2abefb7-5c04-446b-8587-354c17196d02",
   "metadata": {},
   "outputs": [
    {
     "data": {
      "text/plain": [
       "17"
      ]
     },
     "execution_count": 8,
     "metadata": {},
     "output_type": "execute_result"
    }
   ],
   "source": [
    "# THIS IS A SIMPLE ARTHIMETIC EXPRESSION TO MULTIPLY THEN ADD 2 NUMBERS\n",
    "(3*4)+5"
   ]
  },
  {
   "cell_type": "code",
   "execution_count": null,
   "id": "14a64d2c-132a-4301-b45e-1bbad5e815ae",
   "metadata": {},
   "outputs": [],
   "source": [
    "# THIS CODE WILL CONVERT MINUTES INTO HOURS\n",
    "a=int(input(\"ENTER THE TIME IN MINUTES\"))\n",
    "c=a/60\n",
    "print('THE TIME IN HOURS IS ',c)"
   ]
  },
  {
   "cell_type": "markdown",
   "id": "1eacaa7e-8663-479c-b2e1-186cd669d23b",
   "metadata": {},
   "source": [
    "# AUTHOR : \n",
    "### CHANDAN SINGH KSHATRI"
   ]
  }
 ],
 "metadata": {
  "kernelspec": {
   "display_name": "Python 3 (ipykernel)",
   "language": "python",
   "name": "python3"
  },
  "language_info": {
   "codemirror_mode": {
    "name": "ipython",
    "version": 3
   },
   "file_extension": ".py",
   "mimetype": "text/x-python",
   "name": "python",
   "nbconvert_exporter": "python",
   "pygments_lexer": "ipython3",
   "version": "3.11.7"
  }
 },
 "nbformat": 4,
 "nbformat_minor": 5
}
